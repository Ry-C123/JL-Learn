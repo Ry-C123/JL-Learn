{
 "cells": [
  {
   "cell_type": "markdown",
   "id": "7dfe9885",
   "metadata": {},
   "source": [
    "## Lists! \n",
    "\n",
    "Lists come in a lot flavours in python. The bog standard list is given with sqaure brackets:"
   ]
  },
  {
   "cell_type": "code",
   "execution_count": 231,
   "id": "6b6f0e72",
   "metadata": {},
   "outputs": [
    {
     "data": {
      "text/plain": [
       "[1, 2, 3, 4, 5]"
      ]
     },
     "execution_count": 231,
     "metadata": {},
     "output_type": "execute_result"
    }
   ],
   "source": [
    "LIST = [1,2,3,4,5] #<- A list\n",
    "LIST"
   ]
  },
  {
   "cell_type": "markdown",
   "id": "ee112c67",
   "metadata": {},
   "source": [
    "what's special about lists, is that they are **mutable**; meaning they can be changed."
   ]
  },
  {
   "cell_type": "code",
   "execution_count": 232,
   "id": "b2d13fe6",
   "metadata": {},
   "outputs": [
    {
     "data": {
      "text/plain": [
       "[100, 2, 3, 4, 5, 6]"
      ]
     },
     "execution_count": 232,
     "metadata": {},
     "output_type": "execute_result"
    }
   ],
   "source": [
    "LIST.append(6) #add 6 to the end of the list\n",
    "\n",
    "LIST[0]=100 #Change the 1st element to 100 (python indexes from 0) \n",
    "# **Note**    when you change an element directly like this, no new memory is used,\n",
    "#             as such the change is said to be made \"in-place\"\n",
    "\n",
    "LIST"
   ]
  },
  {
   "cell_type": "markdown",
   "id": "4dc2c76b",
   "metadata": {},
   "source": [
    "We can alter lists in other ways"
   ]
  },
  {
   "cell_type": "code",
   "execution_count": 233,
   "id": "650b7cd5",
   "metadata": {},
   "outputs": [
    {
     "data": {
      "text/plain": [
       "(100, 6, [2, 3, 4, 5])"
      ]
     },
     "execution_count": 233,
     "metadata": {},
     "output_type": "execute_result"
    }
   ],
   "source": [
    "bye_end = LIST.pop() #pop, removes the last element from the list\n",
    "bye_start = LIST.pop(0) #pops the 0th element of the list\n",
    "\n",
    "bye_start, bye_end, LIST"
   ]
  },
  {
   "cell_type": "code",
   "execution_count": 234,
   "id": "3b4601a6",
   "metadata": {},
   "outputs": [
    {
     "data": {
      "text/plain": [
       "[2, 3, 4, 5, 11, 10, 9]"
      ]
     },
     "execution_count": 234,
     "metadata": {},
     "output_type": "execute_result"
    }
   ],
   "source": [
    "LIST.extend([11,10,9]) # extend tacks on another list to the end of your list\n",
    "LIST"
   ]
  },
  {
   "cell_type": "code",
   "execution_count": 235,
   "id": "60f13243",
   "metadata": {},
   "outputs": [
    {
     "data": {
      "text/plain": [
       "[2, 3, 4, 5, 11, 10, 9, 15, 20, 25]"
      ]
     },
     "execution_count": 235,
     "metadata": {},
     "output_type": "execute_result"
    }
   ],
   "source": [
    "#Another way to do this is by adding another list\n",
    "LIST += [15,20,25] #This is the same as writing LIST = LIST + [15,20,25]\n",
    "LIST"
   ]
  },
  {
   "cell_type": "code",
   "execution_count": 236,
   "id": "997a2c5c",
   "metadata": {},
   "outputs": [
    {
     "data": {
      "text/plain": [
       "[2, 3, 4, 5, 9, 10, 11, 15, 20, 25]"
      ]
     },
     "execution_count": 236,
     "metadata": {},
     "output_type": "execute_result"
    }
   ],
   "source": [
    "LIST.sort() #Organises the list from lowest to highest\n",
    "LIST"
   ]
  },
  {
   "cell_type": "code",
   "execution_count": 237,
   "id": "2e1d11f7",
   "metadata": {},
   "outputs": [
    {
     "data": {
      "text/plain": [
       "[25, 20, 15, 11, 10, 9, 5, 4, 3, 2]"
      ]
     },
     "execution_count": 237,
     "metadata": {},
     "output_type": "execute_result"
    }
   ],
   "source": [
    "LIST.sort(reverse = True) #Organises the list from highest to lowest\n",
    "LIST"
   ]
  },
  {
   "cell_type": "code",
   "execution_count": 238,
   "id": "40521dfe",
   "metadata": {},
   "outputs": [
    {
     "data": {
      "text/plain": [
       "20"
      ]
     },
     "execution_count": 238,
     "metadata": {},
     "output_type": "execute_result"
    }
   ],
   "source": [
    "#we can get specific elements from a list by looking at their index (remember the index starts at 0,  LIST[0]=25)\n",
    "LIST[1] #elemnent 2 in LIST"
   ]
  },
  {
   "cell_type": "code",
   "execution_count": 239,
   "id": "bf045ed5",
   "metadata": {},
   "outputs": [
    {
     "data": {
      "text/plain": [
       "2"
      ]
     },
     "execution_count": 239,
     "metadata": {},
     "output_type": "execute_result"
    }
   ],
   "source": [
    "#If you want to access the last element you can go in reverse using the minus numbers\n",
    "LIST[-1] #the last element in LIST"
   ]
  },
  {
   "cell_type": "code",
   "execution_count": 240,
   "id": "c74a91c2",
   "metadata": {},
   "outputs": [
    {
     "data": {
      "text/plain": [
       "[20, 15, 11, 10, 9]"
      ]
     },
     "execution_count": 240,
     "metadata": {},
     "output_type": "execute_result"
    }
   ],
   "source": [
    "LIST[1:6] #show elements 1 to 5 in the list\n",
    "#     ^\n",
    "#This is called a slice, there are lots of ways to slice list"
   ]
  },
  {
   "cell_type": "markdown",
   "id": "66bc227f",
   "metadata": {},
   "source": [
    "---\n",
    "\n",
    "We can perform actions on the lists too, a good example of this is sum"
   ]
  },
  {
   "cell_type": "code",
   "execution_count": 241,
   "id": "486ebd13",
   "metadata": {},
   "outputs": [
    {
     "data": {
      "text/plain": [
       "104"
      ]
     },
     "execution_count": 241,
     "metadata": {},
     "output_type": "execute_result"
    }
   ],
   "source": [
    "sum(LIST) #Add all the elements of the list together"
   ]
  },
  {
   "cell_type": "code",
   "execution_count": 242,
   "id": "e5ae136e",
   "metadata": {},
   "outputs": [
    {
     "name": "stdout",
     "output_type": "stream",
     "text": [
      "[25, 15, 10, 5, 3]\n"
     ]
    },
    {
     "data": {
      "text/plain": [
       "58"
      ]
     },
     "execution_count": 242,
     "metadata": {},
     "output_type": "execute_result"
    }
   ],
   "source": [
    "print(LIST[::2])\n",
    "sum(LIST[::2]) #Add every second element starting from 0"
   ]
  },
  {
   "cell_type": "code",
   "execution_count": 243,
   "id": "82e70fb3",
   "metadata": {},
   "outputs": [
    {
     "name": "stdout",
     "output_type": "stream",
     "text": [
      "[2, 4, 9, 11, 20]\n"
     ]
    },
    {
     "data": {
      "text/plain": [
       "46"
      ]
     },
     "execution_count": 243,
     "metadata": {},
     "output_type": "execute_result"
    }
   ],
   "source": [
    "print(LIST[::-2]) #Starting from the end and going backwards, show every 2nd element\n",
    "sum(LIST[::-2]) #Add every second element starting from the end"
   ]
  },
  {
   "cell_type": "markdown",
   "id": "762a4d33",
   "metadata": {},
   "source": [
    "---\n",
    "\n",
    "lists are not required to contain one data type"
   ]
  },
  {
   "cell_type": "code",
   "execution_count": 244,
   "id": "988826e4",
   "metadata": {},
   "outputs": [
    {
     "data": {
      "text/plain": [
       "[25, 20, 15, 11, 10, 9, 5, 4, 3, 2, 'Hello']"
      ]
     },
     "execution_count": 244,
     "metadata": {},
     "output_type": "execute_result"
    }
   ],
   "source": [
    "LIST.append('Hello')\n",
    "LIST"
   ]
  },
  {
   "cell_type": "markdown",
   "id": "5fdfb179",
   "metadata": {},
   "source": [
    "but now summing the elements makes no sense"
   ]
  },
  {
   "cell_type": "code",
   "execution_count": 245,
   "id": "1f64a7e9",
   "metadata": {},
   "outputs": [
    {
     "ename": "TypeError",
     "evalue": "unsupported operand type(s) for +: 'int' and 'str'",
     "output_type": "error",
     "traceback": [
      "\u001b[1;31m---------------------------------------------------------------------------\u001b[0m",
      "\u001b[1;31mTypeError\u001b[0m                                 Traceback (most recent call last)",
      "Input \u001b[1;32mIn [245]\u001b[0m, in \u001b[0;36m<cell line: 1>\u001b[1;34m()\u001b[0m\n\u001b[1;32m----> 1\u001b[0m \u001b[38;5;28;43msum\u001b[39;49m\u001b[43m(\u001b[49m\u001b[43mLIST\u001b[49m\u001b[43m)\u001b[49m\n",
      "\u001b[1;31mTypeError\u001b[0m: unsupported operand type(s) for +: 'int' and 'str'"
     ]
    }
   ],
   "source": [
    "sum(LIST)"
   ]
  },
  {
   "cell_type": "code",
   "execution_count": 246,
   "id": "d7c862fa",
   "metadata": {},
   "outputs": [
    {
     "data": {
      "text/plain": [
       "11"
      ]
     },
     "execution_count": 246,
     "metadata": {},
     "output_type": "execute_result"
    }
   ],
   "source": [
    "#find how long your list is\n",
    "len(LIST)"
   ]
  },
  {
   "cell_type": "markdown",
   "id": "c6a35336",
   "metadata": {},
   "source": [
    "---\n",
    "\n",
    "## LOOPS!\n",
    "\n",
    "Loops are useful when you want a peice of code to repeat multiple times. There are two types of loops:\n",
    "\n",
    "1.) for loops, these iterate a given number of times.\n",
    "\n",
    "2.) while loops, these loop until a condition is met. \n",
    "\n",
    "--- \n",
    "\n",
    "starting with a for loops:"
   ]
  },
  {
   "cell_type": "code",
   "execution_count": 247,
   "id": "2588df35",
   "metadata": {},
   "outputs": [
    {
     "name": "stdout",
     "output_type": "stream",
     "text": [
      "1 2 3 4 5 6 7 8 9 10 "
     ]
    }
   ],
   "source": [
    "for i in range(1,11): #loops ten times, starting from 1\n",
    "    print(i, end=' ')"
   ]
  },
  {
   "cell_type": "markdown",
   "id": "8ea0f77b",
   "metadata": {},
   "source": [
    "In standard python, it is common to use _ as the variable name if the iterator variable number isn't used"
   ]
  },
  {
   "cell_type": "code",
   "execution_count": 248,
   "id": "c5e008a1",
   "metadata": {},
   "outputs": [
    {
     "name": "stdout",
     "output_type": "stream",
     "text": [
      "Hello! Hello! Hello! "
     ]
    }
   ],
   "source": [
    "for _ in range(3):\n",
    "    print('Hello!', end=' ')"
   ]
  },
  {
   "cell_type": "markdown",
   "id": "72744c34",
   "metadata": {},
   "source": [
    "You can also loop over items in your list"
   ]
  },
  {
   "cell_type": "code",
   "execution_count": 249,
   "id": "f6218644",
   "metadata": {},
   "outputs": [
    {
     "name": "stdout",
     "output_type": "stream",
     "text": [
      "25 20 15 11 10 9 5 4 3 2 Hello "
     ]
    }
   ],
   "source": [
    "for i in LIST:\n",
    "    print(i, end=' ')"
   ]
  },
  {
   "cell_type": "markdown",
   "id": "cfb54236",
   "metadata": {},
   "source": [
    "## Important points!\n",
    "\n",
    "You should not edit the list you are iterating over! It can lead to whacky outcomes.\n",
    "\n",
    "The example below would go on forever without the **break** condition. (we talked more about conditions in C2)"
   ]
  },
  {
   "cell_type": "code",
   "execution_count": 250,
   "id": "10d1b3bc",
   "metadata": {},
   "outputs": [
    {
     "data": {
      "text/plain": [
       "51"
      ]
     },
     "execution_count": 250,
     "metadata": {},
     "output_type": "execute_result"
    }
   ],
   "source": [
    "for i in LIST:\n",
    "    LIST += [i]\n",
    "    if len(LIST)>50:\n",
    "        break\n",
    "len(LIST)"
   ]
  },
  {
   "cell_type": "markdown",
   "id": "542d52fa",
   "metadata": {},
   "source": [
    "**break** forces the loop you are currently in to end. This can be useful for a variety of reasons, from code readability to memeory management!\n",
    "\n",
    "---\n",
    "\n",
    "Another feature is **continue**. This ends the current loop your on and goes to the next itteration. This is useful for when you need to skip certain elements (We can also iterate through strings!):"
   ]
  },
  {
   "cell_type": "code",
   "execution_count": 251,
   "id": "44cf778d",
   "metadata": {},
   "outputs": [
    {
     "name": "stdout",
     "output_type": "stream",
     "text": [
      "H e l l o "
     ]
    }
   ],
   "source": [
    "for i in 'Hppeppplplpppppo':\n",
    "    if i =='p':\n",
    "        continue\n",
    "    print(i, end=' ')"
   ]
  },
  {
   "cell_type": "markdown",
   "id": "10d93120",
   "metadata": {},
   "source": [
    "we can also create loop within loops, these are called **nested loops** (or loop-ception)"
   ]
  },
  {
   "cell_type": "code",
   "execution_count": 252,
   "id": "d3db0844",
   "metadata": {},
   "outputs": [
    {
     "name": "stdout",
     "output_type": "stream",
     "text": [
      "0 0 0 0 0 0 0 0 0 0 0 0 0 0 0 0 0 0 0 0    <-  i = 0\n",
      "0 0 0 0 0 0 0 0 0 0 0 0 0 0 0 0 0 0 0 0    <-  i = 1\n",
      "0 0 0 0 0 0 0 0 0 0 1 1 1 1 1 1 1 1 1 1    <-  i = 2\n",
      "0 0 0 0 0 0 0 1 1 1 1 1 1 1 2 2 2 2 2 2    <-  i = 3\n",
      "0 0 0 0 0 1 1 1 1 1 2 2 2 2 2 3 3 3 3 3    <-  i = 4\n",
      "0 0 0 0 1 1 1 1 2 2 2 2 3 3 3 3 4 4 4 4    <-  i = 5\n",
      "0 0 0 0 1 1 1 2 2 2 3 3 3 3 4 4 4 5 5 5    <-  i = 6\n",
      "0 0 0 1 1 1 2 2 2 3 3 3 4 4 4 5 5 5 6 6    <-  i = 7\n",
      "0 0 0 1 1 2 2 2 3 3 4 4 4 5 5 6 6 6 7 7    <-  i = 8\n",
      "0 0 0 1 1 2 2 3 3 4 4 4 5 5 6 6 7 7 8 8    <-  i = 9\n"
     ]
    }
   ],
   "source": [
    "for i in range(10):\n",
    "    for j in range(20):\n",
    "        print((i*j)//20, end=' ')\n",
    "    print(f'   <-  i = {i}')"
   ]
  },
  {
   "cell_type": "markdown",
   "id": "48ce74ed",
   "metadata": {},
   "source": [
    "---\n",
    "\n",
    "### While Loops\n",
    "\n",
    "These guys run until a condition is met"
   ]
  },
  {
   "cell_type": "code",
   "execution_count": 253,
   "id": "44600982",
   "metadata": {},
   "outputs": [
    {
     "name": "stdout",
     "output_type": "stream",
     "text": [
      "1\n",
      "2\n",
      "3\n",
      "4\n",
      "5\n",
      "6\n",
      "7\n",
      "8\n",
      "9\n",
      "10\n"
     ]
    }
   ],
   "source": [
    "n=0\n",
    "while n<10:\n",
    "    n+=1\n",
    "    print(n)"
   ]
  },
  {
   "cell_type": "markdown",
   "id": "2e965757",
   "metadata": {},
   "source": [
    "the way this works:\n",
    "\n",
    "* while (condition is True) -> keep looping\n",
    "* while (condition is False) -> stop looping"
   ]
  },
  {
   "cell_type": "code",
   "execution_count": 254,
   "id": "915a3a8a",
   "metadata": {},
   "outputs": [
    {
     "name": "stdout",
     "output_type": "stream",
     "text": [
      "loop started\n",
      "-----\n",
      "\n",
      "bool_ changed to False\n",
      "\n",
      "-----\n",
      "loop finished\n"
     ]
    }
   ],
   "source": [
    "bool_ = True\n",
    "print('loop started\\n-----\\n')\n",
    "\n",
    "while bool_:\n",
    "    bool_=False\n",
    "    print('bool_ changed to False')\n",
    "    \n",
    "\n",
    "print('\\n-----\\nloop finished')"
   ]
  },
  {
   "cell_type": "markdown",
   "id": "7f3c5e59",
   "metadata": {},
   "source": [
    "---\n",
    "\n",
    "## Truthy and Falsey\n",
    "\n",
    "Certain datatypes have the property called Truthy. This means when a datatype has meaningful info it will return true when questioned. "
   ]
  },
  {
   "cell_type": "code",
   "execution_count": 255,
   "id": "7066d575",
   "metadata": {},
   "outputs": [
    {
     "name": "stdout",
     "output_type": "stream",
     "text": [
      "5 9 10 11 15 20 25 Hello 2 3 4 5 9 10 11 15 20 25 Hello 2 3 4 5 9 10 11 15 20 25 Hello 2 3 4 5 9 10 11 15 20 25 Hello 2 3 4 5 9 10 11 15 20 25 "
     ]
    },
    {
     "data": {
      "text/plain": [
       "[]"
      ]
     },
     "execution_count": 255,
     "metadata": {},
     "output_type": "execute_result"
    }
   ],
   "source": [
    "while LIST:\n",
    "    #This will keep looping until the list is empty. Empty lists evaluate to False\n",
    "    #Strings behave the same way\n",
    "    print(LIST.pop(), end=' ') #remove last element from list\n",
    "LIST"
   ]
  },
  {
   "cell_type": "markdown",
   "id": "c77aef7f",
   "metadata": {},
   "source": [
    "### Empty lists and strings are falsey!\n",
    "\n",
    "---\n",
    "\n",
    "## Tasks:\n",
    "\n",
    "* starting with an empty list **[ ]**, make a list of 10 elements where each element is the sum of all the elements before it plus the index of the element it is \n",
    "-- (*Hint: sum(L) should equal 1013*)\n",
    "\n",
    "\n",
    "\n",
    "* using a while loop, remove all the elements that **aren't** a multiple of 5 \n",
    "-- (*Hint 1: 0 is a multiple of 5*, *Hint 2:   sum(L) should now be 270*)\n",
    "\n",
    "\n",
    "\n",
    "* reverse the list in place **Fun fact, this is often used as an opening interview question for software engineers**\n",
    "\n",
    "\n",
    "* in a new list, convert each number to its string representation prefixed with 'num_'\n",
    "\n",
    "**Bonus:**\n",
    "\n",
    "* Concatinate all of the strings into one string from your new list using **join** (ans = 'num_255num_15num_0')\n",
    "* Finally, using **split** on the string from the previous question, return a list of string numbers (ans = ['255','15','0'])"
   ]
  },
  {
   "cell_type": "code",
   "execution_count": 269,
   "id": "4f561ac4",
   "metadata": {},
   "outputs": [
    {
     "name": "stdout",
     "output_type": "stream",
     "text": [
      "0\n"
     ]
    }
   ],
   "source": [
    "L = []\n",
    "\n",
    "print(sum(L))"
   ]
  },
  {
   "cell_type": "code",
   "execution_count": null,
   "id": "978e11ca",
   "metadata": {},
   "outputs": [],
   "source": []
  }
 ],
 "metadata": {
  "kernelspec": {
   "display_name": "Python 3 (ipykernel)",
   "language": "python",
   "name": "python3"
  },
  "language_info": {
   "codemirror_mode": {
    "name": "ipython",
    "version": 3
   },
   "file_extension": ".py",
   "mimetype": "text/x-python",
   "name": "python",
   "nbconvert_exporter": "python",
   "pygments_lexer": "ipython3",
   "version": "3.9.12"
  }
 },
 "nbformat": 4,
 "nbformat_minor": 5
}
