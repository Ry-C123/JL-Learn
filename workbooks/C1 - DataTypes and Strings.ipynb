{
 "cells": [
  {
   "cell_type": "markdown",
   "id": "05857d57",
   "metadata": {},
   "source": [
    "## The many Data Types of Python\n",
    "---\n",
    "\n",
    "* Python has a wide variety of datatypes and these make the building blocks of programing\n",
    "\n",
    "(Press shift and enter to run code in each cell)\n",
    " "
   ]
  },
  {
   "cell_type": "code",
   "execution_count": 1,
   "id": "2da5bea4",
   "metadata": {},
   "outputs": [
    {
     "name": "stdout",
     "output_type": "stream",
     "text": [
      "1 | int\n",
      "1.2 | float\n",
      "1j | complex\n",
      "1.2.3 | str\n",
      "b'Hello' | bytes\n",
      "False | bool\n",
      "(1, 2, 3) | tuple\n",
      "[1, 2, 3] | list\n",
      "{'a': 1, 'b': 2, 'c': 3} | dict\n",
      "{1, 2, 3} | set\n"
     ]
    }
   ],
   "source": [
    "dts = [1, 1.2, 1j, '1.2.3', b\"Hello\", False, (1,2,3), [1,2,3], {'a':1, 'b':2, 'c':3}, {1,2,3}] #Data types\n",
    "\n",
    "for i in dts:\n",
    "    # Use string manipulation to extract the data type string representation\n",
    "    data_type = str(type(i)).split(\"'\")[1]\n",
    "    print(f'{i} | {data_type}')"
   ]
  },
  {
   "cell_type": "markdown",
   "id": "d6d3561a",
   "metadata": {},
   "source": [
    "* `int` is your classic integers, any whole number positive or negative **(e.g., 1,0, -10)**\n",
    "* `float` (short for floating point number) is any number with a decimal point **(e.g., 1.2, -0.5,10000.2)**\n",
    "* `complex` numbers are any numbers with an imaginary component (represented by the letter j) **(e.g., 1j, 9-9j, 1+0j)**\n",
    "\n",
    "* `str` is short for string, a string is any text. This can be represented as \"text\" or 'text'.\n",
    "* `bytes` is the representation  of data in the format 0-255. Particularly useful for memory saving or communicating with peripherals. \n",
    "* `Bool` is short for Boolean. Represents a binary option -> (True/False, 1/0, etc.)\n",
    "* `tuple` is a list of items with rounded brackets **( )**. These lists are immutable, meaning we cannot change them. These have faster processing than regular lists becase of thar\n",
    "* `list` a list of items with square brackets **[ ]**. These lists are mutable, we can change them. Slower to handle, but better to use with dynamic/growing data.\n",
    "* `dict` short for dictionary, this is a list of items with curly brackets **{ }** that can be searched by a key **(e.g., dict['b'] = 2)**.  \n",
    "* `set` is a list of unique items, no element is repeated. Also defined with curly brackets **{ }**.\n",
    "\n",
    "---\n",
    "\n",
    "## Strings, Inputs, and Printing\n",
    "\n",
    "Jupyter notebooks are fantastic tools for communicating results and debugging processes. If you're looking for a bug or trying to do a live demo, utilising the print out feature effectively can streamline communicating information."
   ]
  },
  {
   "cell_type": "code",
   "execution_count": 2,
   "id": "1c132731",
   "metadata": {},
   "outputs": [
    {
     "name": "stdout",
     "output_type": "stream",
     "text": [
      "- We use print to write text into the output area\n",
      "- We can print all data types e.g. 5 (1, 2, 3)\n",
      "- You can also use symbols to format the data\n",
      "  these are called escape sequences (e.g., \\n line break)\n",
      "/\\_/\\ \n",
      ">^.^<\n",
      " / \\\n",
      "(___)__\n",
      "\n"
     ]
    },
    {
     "data": {
      "text/plain": [
       "'Simply typing a variable name or a string at the end will display its value or content in the output cell.'"
      ]
     },
     "execution_count": 2,
     "metadata": {},
     "output_type": "execute_result"
    }
   ],
   "source": [
    "# <- we Use these to make comments Python will not read this line of text\n",
    "print('- We use print to write text into the output area') #print function prints the text into the output cell bellow\n",
    "\n",
    "print('- We can print all data types e.g.', 5, (1,2,3))\n",
    "\n",
    "print('- You can also use symbols to format the data\\n  these are called escape sequences (e.g., \\\\n line break)')\n",
    "print(\"/\\_/\\ \\n>^.^<\\n / \\\\\\n(___)__\\n\")\n",
    "\n",
    "\"Simply typing a variable name or a string at the end will display its value or content in the output cell.\""
   ]
  },
  {
   "cell_type": "markdown",
   "id": "83a395e3",
   "metadata": {},
   "source": [
    "---\n",
    "we can also format print outs"
   ]
  },
  {
   "cell_type": "code",
   "execution_count": 3,
   "id": "f1f9094e",
   "metadata": {},
   "outputs": [
    {
     "name": "stdout",
     "output_type": "stream",
     "text": [
      "\u001b[91mStrings appear red in default Jupyter theme\u001b[0m\n",
      "\u001b[92mpre-defined functions appear green\u001b[0m\n",
      "\u001b[1mWe can also make things bold\u001b[0m\n",
      "\u001b[7mand highlights\u001b[0m\n"
     ]
    }
   ],
   "source": [
    "# ANSI escape sequences for colors and fonts\n",
    "RED = '\\033[91m'\n",
    "GREEN = '\\033[92m'\n",
    "BOLD = '\\033[1m'\n",
    "HIGHLIGHT = '\\033[7m'\n",
    "END = '\\033[0m'  # Reset color\n",
    "\n",
    "# Example usage\n",
    "print(f\"{RED}Strings appear red in default Jupyter theme{END}\")\n",
    "print(f\"{GREEN}pre-defined functions appear green{END}\")\n",
    "print(f\"{BOLD}We can also make things bold{END}\")\n",
    "print(f\"{HIGHLIGHT}and highlights{END}\")"
   ]
  },
  {
   "cell_type": "markdown",
   "id": "27fb2736",
   "metadata": {},
   "source": [
    "### **NOTE:** Some versions of Jupyter print do not support certain font actions (itallics for example)\n",
    "\n",
    "---\n",
    "\n",
    "### Input\n",
    "\n",
    "Input is a way to get information from the user that cannot be pre-defined in the code:"
   ]
  },
  {
   "cell_type": "code",
   "execution_count": 4,
   "id": "be86d1c4",
   "metadata": {},
   "outputs": [
    {
     "name": "stdout",
     "output_type": "stream",
     "text": [
      "What's your favourite Cheese?Blue\n"
     ]
    },
    {
     "data": {
      "text/plain": [
       "'Blue'"
      ]
     },
     "execution_count": 4,
     "metadata": {},
     "output_type": "execute_result"
    }
   ],
   "source": [
    "input('What\\'s your favourite Cheese?')"
   ]
  },
  {
   "cell_type": "markdown",
   "id": "10caba71",
   "metadata": {},
   "source": [
    "**You can assign these inputs to variables to use later**  "
   ]
  },
  {
   "cell_type": "code",
   "execution_count": 5,
   "id": "51c9af48",
   "metadata": {},
   "outputs": [
    {
     "name": "stdout",
     "output_type": "stream",
     "text": [
      "What is your name?Fred\n",
      "What is your fave food?Pizza\n",
      "How many times a month do you eat it?9\n"
     ]
    }
   ],
   "source": [
    "name = input('What is your name?')\n",
    "food = input('What is your fave food?')\n",
    "number = input('How many times a month do you eat it?')"
   ]
  },
  {
   "cell_type": "markdown",
   "id": "f516e9b4",
   "metadata": {},
   "source": [
    "**Notes:**\n",
    "* Input reads everything as string so even `number` will appear as a string\n",
    "* Variables can be used accross cells "
   ]
  },
  {
   "cell_type": "code",
   "execution_count": 6,
   "id": "d6ab67cb",
   "metadata": {},
   "outputs": [
    {
     "data": {
      "text/plain": [
       "str"
      ]
     },
     "execution_count": 6,
     "metadata": {},
     "output_type": "execute_result"
    }
   ],
   "source": [
    "type(number) #type returns the datatype of the object inside it"
   ]
  },
  {
   "cell_type": "markdown",
   "id": "c0897bb7",
   "metadata": {},
   "source": [
    "* We can change number to int by doing the following"
   ]
  },
  {
   "cell_type": "code",
   "execution_count": 7,
   "id": "b8d59315",
   "metadata": {},
   "outputs": [
    {
     "data": {
      "text/plain": [
       "int"
      ]
     },
     "execution_count": 7,
     "metadata": {},
     "output_type": "execute_result"
    }
   ],
   "source": [
    "number = int(number)\n",
    "type(number)"
   ]
  },
  {
   "cell_type": "markdown",
   "id": "acf4479d",
   "metadata": {},
   "source": [
    "* if the string contains any non-numeric characters it will throw an error "
   ]
  },
  {
   "cell_type": "code",
   "execution_count": 8,
   "id": "a1ce61ac",
   "metadata": {},
   "outputs": [
    {
     "ename": "ValueError",
     "evalue": "invalid literal for int() with base 10: 'astring'",
     "output_type": "error",
     "traceback": [
      "\u001b[1;31m---------------------------------------------------------------------------\u001b[0m",
      "\u001b[1;31mValueError\u001b[0m                                Traceback (most recent call last)",
      "Input \u001b[1;32mIn [8]\u001b[0m, in \u001b[0;36m<cell line: 1>\u001b[1;34m()\u001b[0m\n\u001b[1;32m----> 1\u001b[0m \u001b[38;5;28;43mint\u001b[39;49m\u001b[43m(\u001b[49m\u001b[38;5;124;43m'\u001b[39;49m\u001b[38;5;124;43mastring\u001b[39;49m\u001b[38;5;124;43m'\u001b[39;49m\u001b[43m)\u001b[49m\n",
      "\u001b[1;31mValueError\u001b[0m: invalid literal for int() with base 10: 'astring'"
     ]
    }
   ],
   "source": [
    "int('astring')"
   ]
  },
  {
   "cell_type": "markdown",
   "id": "6ca51f6e",
   "metadata": {},
   "source": [
    "* We turn number backinto strings by doing the reverse"
   ]
  },
  {
   "cell_type": "code",
   "execution_count": 9,
   "id": "66b89c43",
   "metadata": {},
   "outputs": [
    {
     "data": {
      "text/plain": [
       "str"
      ]
     },
     "execution_count": 9,
     "metadata": {},
     "output_type": "execute_result"
    }
   ],
   "source": [
    "number = str(number)\n",
    "type(number)"
   ]
  },
  {
   "cell_type": "markdown",
   "id": "74b6dcc7",
   "metadata": {},
   "source": [
    "* We can print each variable"
   ]
  },
  {
   "cell_type": "code",
   "execution_count": 10,
   "id": "a1a96c7d",
   "metadata": {},
   "outputs": [
    {
     "name": "stdout",
     "output_type": "stream",
     "text": [
      "Fred Pizza 9\n"
     ]
    }
   ],
   "source": [
    "print(name, food, number)"
   ]
  },
  {
   "cell_type": "markdown",
   "id": "aacf9a84",
   "metadata": {},
   "source": [
    "* We can use F-strings to format a string using the inputs we collected "
   ]
  },
  {
   "cell_type": "code",
   "execution_count": 11,
   "id": "8535a969",
   "metadata": {},
   "outputs": [
    {
     "data": {
      "text/plain": [
       "'This is Fred, their favourite food is Pizza. They love Pizza so much they eat it 9 times a week!'"
      ]
     },
     "execution_count": 11,
     "metadata": {},
     "output_type": "execute_result"
    }
   ],
   "source": [
    "# we make an f-string by putting f before the quote marks (f\"\" or f'') \n",
    "sentence = f\"This is {name}, their favourite food is {food}. They love {food} so much they eat it {number} times a week!\"\n",
    "sentence"
   ]
  },
  {
   "cell_type": "markdown",
   "id": "fcb72f17",
   "metadata": {},
   "source": [
    "Chapter 1 done!\n",
    "\n",
    "---\n",
    "\n",
    "## Tasks\n",
    "\n",
    "* Use inputs to ask the user how many cats, dogs, and horses they have\n",
    "* Using one print function, list the number of dogs, cats, and horses. One animal for each line\n",
    "* Print the total number of cats and dogs the user has\n",
    "* **BONUS** Create a dictionary so we can queary how many of each animal the user has"
   ]
  },
  {
   "cell_type": "code",
   "execution_count": null,
   "id": "336ad538",
   "metadata": {},
   "outputs": [],
   "source": []
  }
 ],
 "metadata": {
  "kernelspec": {
   "display_name": "Python 3 (ipykernel)",
   "language": "python",
   "name": "python3"
  },
  "language_info": {
   "codemirror_mode": {
    "name": "ipython",
    "version": 3
   },
   "file_extension": ".py",
   "mimetype": "text/x-python",
   "name": "python",
   "nbconvert_exporter": "python",
   "pygments_lexer": "ipython3",
   "version": "3.9.12"
  }
 },
 "nbformat": 4,
 "nbformat_minor": 5
}
